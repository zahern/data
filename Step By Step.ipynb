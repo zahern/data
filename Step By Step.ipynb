{
 "cells": [
  {
   "cell_type": "markdown",
   "metadata": {},
   "source": [
    "# Supplementary Material"
   ]
  },
  {
   "cell_type": "markdown",
   "metadata": {},
   "source": [
    "This is a companion piece to all the code lines in the paper"
   ]
  },
  {
   "cell_type": "markdown",
   "metadata": {},
   "source": [
    "Listing: Installation of the package"
   ]
  },
  {
   "cell_type": "code",
   "execution_count": 7,
   "metadata": {},
   "outputs": [
    {
     "name": "stdout",
     "output_type": "stream",
     "text": [
      "Requirement already satisfied: metacountregressor in c:\\users\\ahernz\\appdata\\local\\packages\\pythonsoftwarefoundation.python.3.11_qbz5n2kfra8p0\\localcache\\local-packages\\python311\\site-packages (0.1.307)\n",
      "Requirement already satisfied: numpy>=2.2.2 in c:\\users\\ahernz\\appdata\\local\\packages\\pythonsoftwarefoundation.python.3.11_qbz5n2kfra8p0\\localcache\\local-packages\\python311\\site-packages (from metacountregressor) (2.2.4)\n",
      "Requirement already satisfied: scipy>=1.0.0 in c:\\users\\ahernz\\appdata\\local\\packages\\pythonsoftwarefoundation.python.3.11_qbz5n2kfra8p0\\localcache\\local-packages\\python311\\site-packages (from metacountregressor) (1.15.2)\n",
      "Requirement already satisfied: requests in c:\\users\\ahernz\\appdata\\local\\packages\\pythonsoftwarefoundation.python.3.11_qbz5n2kfra8p0\\localcache\\local-packages\\python311\\site-packages (from metacountregressor) (2.32.3)\n",
      "Requirement already satisfied: latextable in c:\\users\\ahernz\\appdata\\local\\packages\\pythonsoftwarefoundation.python.3.11_qbz5n2kfra8p0\\localcache\\local-packages\\python311\\site-packages (from metacountregressor) (1.0.1)\n",
      "Requirement already satisfied: pandas in c:\\users\\ahernz\\appdata\\local\\packages\\pythonsoftwarefoundation.python.3.11_qbz5n2kfra8p0\\localcache\\local-packages\\python311\\site-packages (from metacountregressor) (2.2.3)\n",
      "Requirement already satisfied: scikit-learn>=1.3.1 in c:\\users\\ahernz\\appdata\\local\\packages\\pythonsoftwarefoundation.python.3.11_qbz5n2kfra8p0\\localcache\\local-packages\\python311\\site-packages (from metacountregressor) (1.6.1)\n",
      "Requirement already satisfied: statsmodels in c:\\users\\ahernz\\appdata\\local\\packages\\pythonsoftwarefoundation.python.3.11_qbz5n2kfra8p0\\localcache\\local-packages\\python311\\site-packages (from metacountregressor) (0.14.4)\n",
      "Requirement already satisfied: psutil in c:\\users\\ahernz\\appdata\\local\\packages\\pythonsoftwarefoundation.python.3.11_qbz5n2kfra8p0\\localcache\\local-packages\\python311\\site-packages (from metacountregressor) (7.0.0)\n",
      "Requirement already satisfied: pybind11>=2.12 in c:\\users\\ahernz\\appdata\\local\\packages\\pythonsoftwarefoundation.python.3.11_qbz5n2kfra8p0\\localcache\\local-packages\\python311\\site-packages (from metacountregressor) (2.13.6)\n",
      "Requirement already satisfied: joblib>=1.2.0 in c:\\users\\ahernz\\appdata\\local\\packages\\pythonsoftwarefoundation.python.3.11_qbz5n2kfra8p0\\localcache\\local-packages\\python311\\site-packages (from scikit-learn>=1.3.1->metacountregressor) (1.4.2)\n",
      "Requirement already satisfied: threadpoolctl>=3.1.0 in c:\\users\\ahernz\\appdata\\local\\packages\\pythonsoftwarefoundation.python.3.11_qbz5n2kfra8p0\\localcache\\local-packages\\python311\\site-packages (from scikit-learn>=1.3.1->metacountregressor) (3.6.0)\n",
      "Requirement already satisfied: texttable in c:\\users\\ahernz\\appdata\\local\\packages\\pythonsoftwarefoundation.python.3.11_qbz5n2kfra8p0\\localcache\\local-packages\\python311\\site-packages (from latextable->metacountregressor) (1.7.0)\n",
      "Requirement already satisfied: python-dateutil>=2.8.2 in c:\\users\\ahernz\\appdata\\local\\packages\\pythonsoftwarefoundation.python.3.11_qbz5n2kfra8p0\\localcache\\local-packages\\python311\\site-packages (from pandas->metacountregressor) (2.9.0.post0)\n",
      "Requirement already satisfied: pytz>=2020.1 in c:\\users\\ahernz\\appdata\\local\\packages\\pythonsoftwarefoundation.python.3.11_qbz5n2kfra8p0\\localcache\\local-packages\\python311\\site-packages (from pandas->metacountregressor) (2025.1)\n",
      "Requirement already satisfied: tzdata>=2022.7 in c:\\users\\ahernz\\appdata\\local\\packages\\pythonsoftwarefoundation.python.3.11_qbz5n2kfra8p0\\localcache\\local-packages\\python311\\site-packages (from pandas->metacountregressor) (2025.1)\n",
      "Requirement already satisfied: charset-normalizer<4,>=2 in c:\\users\\ahernz\\appdata\\local\\packages\\pythonsoftwarefoundation.python.3.11_qbz5n2kfra8p0\\localcache\\local-packages\\python311\\site-packages (from requests->metacountregressor) (3.4.1)\n",
      "Requirement already satisfied: idna<4,>=2.5 in c:\\users\\ahernz\\appdata\\local\\packages\\pythonsoftwarefoundation.python.3.11_qbz5n2kfra8p0\\localcache\\local-packages\\python311\\site-packages (from requests->metacountregressor) (3.10)\n",
      "Requirement already satisfied: urllib3<3,>=1.21.1 in c:\\users\\ahernz\\appdata\\local\\packages\\pythonsoftwarefoundation.python.3.11_qbz5n2kfra8p0\\localcache\\local-packages\\python311\\site-packages (from requests->metacountregressor) (2.3.0)\n",
      "Requirement already satisfied: certifi>=2017.4.17 in c:\\users\\ahernz\\appdata\\local\\packages\\pythonsoftwarefoundation.python.3.11_qbz5n2kfra8p0\\localcache\\local-packages\\python311\\site-packages (from requests->metacountregressor) (2025.1.31)\n",
      "Requirement already satisfied: patsy>=0.5.6 in c:\\users\\ahernz\\appdata\\local\\packages\\pythonsoftwarefoundation.python.3.11_qbz5n2kfra8p0\\localcache\\local-packages\\python311\\site-packages (from statsmodels->metacountregressor) (1.0.1)\n",
      "Requirement already satisfied: packaging>=21.3 in c:\\users\\ahernz\\appdata\\local\\packages\\pythonsoftwarefoundation.python.3.11_qbz5n2kfra8p0\\localcache\\local-packages\\python311\\site-packages (from statsmodels->metacountregressor) (24.2)\n",
      "Requirement already satisfied: six>=1.5 in c:\\users\\ahernz\\appdata\\local\\packages\\pythonsoftwarefoundation.python.3.11_qbz5n2kfra8p0\\localcache\\local-packages\\python311\\site-packages (from python-dateutil>=2.8.2->pandas->metacountregressor) (1.17.0)\n"
     ]
    },
    {
     "name": "stderr",
     "output_type": "stream",
     "text": [
      "\n",
      "[notice] A new release of pip is available: 24.0 -> 25.0.1\n",
      "[notice] To update, run: C:\\Users\\ahernz\\AppData\\Local\\Microsoft\\WindowsApps\\PythonSoftwareFoundation.Python.3.11_qbz5n2kfra8p0\\python.exe -m pip install --upgrade pip\n"
     ]
    },
    {
     "name": "stdout",
     "output_type": "stream",
     "text": [
      "Requirement already satisfied: matplotlib in c:\\users\\ahernz\\appdata\\local\\packages\\pythonsoftwarefoundation.python.3.11_qbz5n2kfra8p0\\localcache\\local-packages\\python311\\site-packages (3.10.1)\n",
      "Requirement already satisfied: contourpy>=1.0.1 in c:\\users\\ahernz\\appdata\\local\\packages\\pythonsoftwarefoundation.python.3.11_qbz5n2kfra8p0\\localcache\\local-packages\\python311\\site-packages (from matplotlib) (1.3.1)\n",
      "Requirement already satisfied: cycler>=0.10 in c:\\users\\ahernz\\appdata\\local\\packages\\pythonsoftwarefoundation.python.3.11_qbz5n2kfra8p0\\localcache\\local-packages\\python311\\site-packages (from matplotlib) (0.12.1)\n",
      "Requirement already satisfied: fonttools>=4.22.0 in c:\\users\\ahernz\\appdata\\local\\packages\\pythonsoftwarefoundation.python.3.11_qbz5n2kfra8p0\\localcache\\local-packages\\python311\\site-packages (from matplotlib) (4.56.0)\n",
      "Requirement already satisfied: kiwisolver>=1.3.1 in c:\\users\\ahernz\\appdata\\local\\packages\\pythonsoftwarefoundation.python.3.11_qbz5n2kfra8p0\\localcache\\local-packages\\python311\\site-packages (from matplotlib) (1.4.8)\n",
      "Requirement already satisfied: numpy>=1.23 in c:\\users\\ahernz\\appdata\\local\\packages\\pythonsoftwarefoundation.python.3.11_qbz5n2kfra8p0\\localcache\\local-packages\\python311\\site-packages (from matplotlib) (2.2.4)\n",
      "Requirement already satisfied: packaging>=20.0 in c:\\users\\ahernz\\appdata\\local\\packages\\pythonsoftwarefoundation.python.3.11_qbz5n2kfra8p0\\localcache\\local-packages\\python311\\site-packages (from matplotlib) (24.2)\n",
      "Requirement already satisfied: pillow>=8 in c:\\users\\ahernz\\appdata\\local\\packages\\pythonsoftwarefoundation.python.3.11_qbz5n2kfra8p0\\localcache\\local-packages\\python311\\site-packages (from matplotlib) (11.1.0)\n",
      "Requirement already satisfied: pyparsing>=2.3.1 in c:\\users\\ahernz\\appdata\\local\\packages\\pythonsoftwarefoundation.python.3.11_qbz5n2kfra8p0\\localcache\\local-packages\\python311\\site-packages (from matplotlib) (3.2.1)\n",
      "Requirement already satisfied: python-dateutil>=2.7 in c:\\users\\ahernz\\appdata\\local\\packages\\pythonsoftwarefoundation.python.3.11_qbz5n2kfra8p0\\localcache\\local-packages\\python311\\site-packages (from matplotlib) (2.9.0.post0)\n",
      "Requirement already satisfied: six>=1.5 in c:\\users\\ahernz\\appdata\\local\\packages\\pythonsoftwarefoundation.python.3.11_qbz5n2kfra8p0\\localcache\\local-packages\\python311\\site-packages (from python-dateutil>=2.7->matplotlib) (1.17.0)\n"
     ]
    },
    {
     "name": "stderr",
     "output_type": "stream",
     "text": [
      "\n",
      "[notice] A new release of pip is available: 24.0 -> 25.0.1\n",
      "[notice] To update, run: C:\\Users\\ahernz\\AppData\\Local\\Microsoft\\WindowsApps\\PythonSoftwareFoundation.Python.3.11_qbz5n2kfra8p0\\python.exe -m pip install --upgrade pip\n"
     ]
    }
   ],
   "source": [
    "!pip install metacountregressor --upgrade\n",
    "!pip install matplotlib --upgrade"
   ]
  },
  {
   "cell_type": "markdown",
   "metadata": {},
   "source": [
    "Listing: Importing "
   ]
  },
  {
   "cell_type": "code",
   "execution_count": 8,
   "metadata": {},
   "outputs": [],
   "source": [
    "from metacountregressor.solution import ObjectiveFunction\n",
    "from metacountregressor.metaheuristics import (harmony_search,differential_evolution,simulated_annealing)         \n",
    "from metacountregressor import helperprocess"
   ]
  },
  {
   "cell_type": "markdown",
   "metadata": {},
   "source": [
    "Listing: Loading in data (example syntax)"
   ]
  },
  {
   "cell_type": "code",
   "execution_count": 9,
   "metadata": {},
   "outputs": [
    {
     "data": {
      "text/plain": [
       "Index(['ID', 'LENGTH', 'INCLANES', 'DECLANES', 'WIDTH', 'MIMEDSH', 'MXMEDSH',\n",
       "       'SPEED', 'URB', 'FC', 'AADT', 'SINGLE', 'DOUBLE', 'TRAIN', 'PEAKHR',\n",
       "       'GRADEBR', 'MIGRADE', 'MXGRADE', 'MXGRDIFF', 'TANGENT', 'CURVES',\n",
       "       'MINRAD', 'ACCESS', 'MEDWIDTH', 'FRICTION', 'ADTLANE', 'SLOPE',\n",
       "       'INTECHAG', 'AVEPRE', 'AVESNOW'],\n",
       "      dtype='object')"
      ]
     },
     "execution_count": 9,
     "metadata": {},
     "output_type": "execute_result"
    }
   ],
   "source": [
    "import numpy as np\n",
    "import pandas as pd\n",
    "df = pd.read_csv(\"https://raw.githubusercontent.com\"\n",
    "    \"/zahern/data/main/Ex-16-3.csv\")\n",
    "y = df['FREQ']  # Frequency of crashes\n",
    "X = df.drop(columns=['FREQ']) # setup X based on data\n",
    "X.columns"
   ]
  },
  {
   "cell_type": "code",
   "execution_count": null,
   "metadata": {},
   "outputs": [],
   "source": []
  },
  {
   "cell_type": "markdown",
   "metadata": {},
   "source": [
    "Listing: Defining and Offset Variable"
   ]
  },
  {
   "cell_type": "code",
   "execution_count": 10,
   "metadata": {},
   "outputs": [
    {
     "name": "stdout",
     "output_type": "stream",
     "text": [
      "The following columns are not in the DataFrame and will be ignored: ['Y']\n",
      "Index(['INCLANES', 'DECLANES', 'WIDTH', 'SPEED', 'FC', 'PEAKHR', 'GRADEBR',\n",
      "       'MIGRADE', 'MXGRADE', 'MXGRDIFF', 'TANGENT', 'CURVES', 'MINRAD',\n",
      "       'ACCESS', 'MEDWIDTH', 'FRICTION', 'ADTLANE', 'SLOPE', 'INTECHAG',\n",
      "       'AVEPRE', 'AVESNOW', 'Offset'],\n",
      "      dtype='object')\n",
      "Normalizing INCLANES\n",
      "Normalizing DECLANES\n",
      "Normalizing WIDTH\n",
      "Normalizing SPEED\n",
      "Guessing type for FC\n",
      "Guessing type for PEAKHR\n",
      "made it through here\n",
      "Guessing type for GRADEBR\n",
      "made it through here\n",
      "Guessing type for MIGRADE\n",
      "Guessing type for MXGRADE\n",
      "Guessing type for MXGRDIFF\n",
      "Guessing type for TANGENT\n",
      "made it through here\n",
      "Guessing type for CURVES\n",
      "made it through here\n",
      "Guessing type for MINRAD\n",
      "made it through here\n",
      "Guessing type for ACCESS\n",
      "Normalizing MEDWIDTH\n",
      "Normalizing FRICTION\n",
      "Normalizing SLOPE\n",
      "Guessing type for INTECHAG\n",
      "Normalizing AVEPRE\n",
      "Normalizing AVESNOW\n",
      "     Offset  ADTLANE  FRICTION     SPEED     WIDTH  MEDWIDTH     SLOPE  \\\n",
      "0  0.007788      837  0.869919  0.846154  0.396694       0.8  0.666667   \n",
      "1  0.017439      837  0.878049  0.846154  0.380165       1.0  0.666667   \n",
      "2  0.048029     3150  0.853659  0.846154  0.396694       0.2  0.000000   \n",
      "3  0.049343     3150  0.850407  0.846154  0.396694       0.2  0.000000   \n",
      "4  0.035503     3487  0.850407  0.846154  0.396694       0.2  0.000000   \n",
      "\n",
      "     AVEPRE   AVESNOW  INCLANES  ...  CURVES_Low  CURVES_Medium  CURVES_High  \\\n",
      "0  0.905282  1.000000       0.5  ...       False           True        False   \n",
      "1  0.905282  1.000000       0.5  ...       False          False         True   \n",
      "2  0.217668  0.116878       0.5  ...        True          False        False   \n",
      "3  0.217668  0.116878       0.5  ...       False           True        False   \n",
      "4  0.083789  0.023008       0.5  ...       False           True        False   \n",
      "\n",
      "   MINRAD_Low  MINRAD_Medium  MINRAD_High  ACCESS_0  ACCESS_1  ACCESS_2  \\\n",
      "0        True          False        False     False      True     False   \n",
      "1        True          False        False     False      True     False   \n",
      "2       False          False         True     False      True     False   \n",
      "3       False          False         True     False      True     False   \n",
      "4        True          False        False     False      True     False   \n",
      "\n",
      "   INTECHAG  \n",
      "0 -1.013251  \n",
      "1 -1.013251  \n",
      "2 -1.013251  \n",
      "3 -1.013251  \n",
      "4 -1.013251  \n",
      "\n",
      "[5 rows x 36 columns]\n",
      "The following columns are not in the DataFrame and will be ignored: ['Y']\n",
      "Index(['Offset', 'ADTLANE', 'FRICTION', 'SPEED', 'WIDTH', 'MEDWIDTH', 'SLOPE',\n",
      "       'AVEPRE', 'AVESNOW', 'INCLANES', 'DECLANES', 'FC_1', 'FC_2', 'FC_5',\n",
      "       'PEAKHR_Low', 'PEAKHR_Medium', 'PEAKHR_High', 'GRADEBR_Low',\n",
      "       'GRADEBR_Medium', 'GRADEBR_High', 'MIGRADE', 'MXGRADE', 'MXGRDIFF',\n",
      "       'TANGENT_Low', 'TANGENT_Medium', 'TANGENT_High', 'CURVES_Low',\n",
      "       'CURVES_Medium', 'CURVES_High', 'MINRAD_Low', 'MINRAD_Medium',\n",
      "       'MINRAD_High', 'ACCESS_0', 'ACCESS_1', 'ACCESS_2', 'INTECHAG'],\n",
      "      dtype='object')\n"
     ]
    }
   ],
   "source": [
    "#X['Offset'] = X['LENGTH']*np.log1p(X['AADT']) #Modify Here for Desired Offset\n",
    "#X = X.drop(columns=['LENGTH', 'AADT'])  \n",
    "y_name ='FREQ'\n",
    "offset_name = 'Offset'\n",
    "group_name = None\n",
    "panel_name = None\n",
    "\n",
    "# grabbing the offset amount\n",
    "X['Offset'] = np.log(1 + X['AADT'] * X['LENGTH'] * 365 / 100000000)\n",
    "drop_these = ['AADT', 'LENGTH', 'ID','MIMEDSH', 'MXMEDSH', 'SINGLE', 'DOUBLE', 'TRAIN', 'URB']\n",
    "X.drop(columns=drop_these, inplace=True)\n",
    "\n",
    "X = X.dropna(how='any')\n",
    "# ENCODE CATEGORICAL VARIABLES\n",
    " # Step 2: Process Data\n",
    "model_terms = {\n",
    "    'Y': y_name,         # Dependent variable\n",
    "    'group': group_name,       # Grouping column (if any)\n",
    "    'panels': panel_name,      # Panel column (if any)\n",
    "    'Offset': offset_name       # Offset column (if any)\n",
    "    }\n",
    "keep_items = [key for key, value in model_terms.items() if value is not None]\n",
    "keep_items = keep_items + ['FRICTION', 'SPEED', 'WIDTH']\n",
    "    # Step 3: Drop highly correlated features and keep required terms\n",
    "X = helperprocess.interactions(X, keep=keep_items,drop_this_perc=0.65 )\n",
    "print(X.columns)\n",
    "\n",
    "# Step 4: Define configuration dictionary\n",
    "config = {\n",
    "\n",
    "        'Offset': {'type': 'none'},\n",
    "        'ADTLANE': {'type': 'none'},\n",
    "        'FRICTION': {'type': 'normalized'},\n",
    "        'SPEED':{ 'type': 'normalized'},\n",
    "        'WIDTH':{ 'type': 'normalized'},\n",
    "        'MEDWIDTH':{ 'type': 'normalized'},\n",
    "        'SLOPE':{ 'type': 'normalized'},\n",
    "        'AVEPRE':{ 'type': 'normalized'},\n",
    "        'AVESNOW':{ 'type': 'normalized'},\n",
    "        'INCLANES':{ 'type': 'normalized'},\n",
    "        'DECLANES':{ 'type': 'normalized'}\n",
    "\n",
    "\n",
    "}\n",
    "    \n",
    "    # Step 5: Infer types for remaining columns and update the configuration\n",
    "dataset = X\n",
    "\n",
    "for column in dataset.columns:\n",
    "    if column not in config:\n",
    "        print('Guessing type for', column)\n",
    "        is_binary = dataset[column].isin([0, 1]).all()\n",
    "        if not is_binary:\n",
    "            config[column] =  helperprocess.guess_column_type(column,dataset[column])\n",
    "        else:\n",
    "            config[column] = {\n",
    "        'type': None,\n",
    "        'bins': [0,1],\n",
    "        'labels': ['Off', 'On'],\n",
    "        'prefix': f'{column}'}\n",
    "    else:\n",
    "        if config[column]['type'] == 'normalized':\n",
    "            print('Normalizing', column)\n",
    "            dataset[column] = dataset[column] / dataset[column].max()\n",
    "            config[column]['type'] = 'none'\n",
    "    \n",
    "\n",
    "# Step 6: Transform the dataset based on the configuration\n",
    "data_new = helperprocess.transform_dataframe(dataset, config)\n",
    "# Drop duplicate columns by name and keep only the first occurrence\n",
    "data_new = data_new.loc[:, ~data_new.columns.duplicated()]\n",
    "\n",
    "\n",
    "print(data_new.head())\n",
    "data_new = helperprocess.interactions(data_new, keep=keep_items,drop_this_perc=0.65 )\n",
    "print(data_new.columns)\n",
    "#reapply correlation check\n",
    "X = data_new"
   ]
  },
  {
   "cell_type": "markdown",
   "metadata": {},
   "source": [
    "customising the arguments for objective and metaheuristic"
   ]
  },
  {
   "cell_type": "code",
   "execution_count": 11,
   "metadata": {},
   "outputs": [],
   "source": [
    "arguments = {'test_percentage': 0.3, 'complexity_level': 3} #Objective args\n",
    "arguments_hs = {'_par': 0.3, '_hms': 20}\n",
    "arguments_sa = None #Note: Supply the relevant arguments, otherwise default arguments will be used\n",
    "arguments_de = None"
   ]
  },
  {
   "cell_type": "markdown",
   "metadata": {},
   "source": [
    "Defining the objective function for the available metaheuristics"
   ]
  },
  {
   "cell_type": "code",
   "execution_count": 12,
   "metadata": {},
   "outputs": [
    {
     "name": "stdout",
     "output_type": "stream",
     "text": [
      "no name set, setting name as 0\n",
      "No Panels. Grouped Random Paramaters Will not be estimated\n",
      "Setup Complete...\n",
      "The type of models possible will consider: Poisson, NB\n",
      "Optimization failed.\n",
      "Did not converge\n",
      "--------------------------------------------------------------------------------\n",
      "Log-Likelihood:  -676.6873566265979\n",
      "--------------------------------------------------------------------------------\n",
      "bic: 1522.60\n",
      "--------------------------------------------------------------------------------\n",
      "+------------------------+--------+---------+----------+----------+------------+\n",
      "|         Effect         | $\\tau$ |  Coeff  | Std. Err | z-values | Prob |z|>Z |\n",
      "+========================+========+=========+==========+==========+============+\n",
      "| const                  | no     | 0.4744  |   3.30   |   0.14   | 0.89       |\n",
      "+------------------------+--------+---------+----------+----------+------------+\n",
      "| FRICTION               | no     | 0.1446  |   3.72   |   0.04   | 0.97       |\n",
      "+------------------------+--------+---------+----------+----------+------------+\n",
      "| SLOPE                  | no     | 0.0594  |   1.82   |   0.03   | 0.97       |\n",
      "+------------------------+--------+---------+----------+----------+------------+\n",
      "| AVESNOW                | no     | -0.0575 |   2.11   |  -0.03   | 0.98       |\n",
      "+------------------------+--------+---------+----------+----------+------------+\n",
      "| DECLANES               | no     | 0.3375  |   1.56   |   0.22   | 0.83       |\n",
      "+------------------------+--------+---------+----------+----------+------------+\n",
      "| PEAKHR_Medium          | no     | -0.2662 |   1.30   |  -0.20   | 0.84       |\n",
      "+------------------------+--------+---------+----------+----------+------------+\n",
      "| GRADEBR_Low            | no     | -0.2768 |   1.41   |  -0.20   | 0.84       |\n",
      "+------------------------+--------+---------+----------+----------+------------+\n",
      "| MXGRADE                | no     | 0.1040  |   0.60   |   0.17   | 0.86       |\n",
      "+------------------------+--------+---------+----------+----------+------------+\n",
      "| MXGRDIFF               | no     | 0.1728  |   0.66   |   0.26   | 0.79       |\n",
      "+------------------------+--------+---------+----------+----------+------------+\n",
      "| TANGENT_Low            | no     | 0.0173  |   1.45   |   0.01   | 0.99       |\n",
      "+------------------------+--------+---------+----------+----------+------------+\n",
      "| TANGENT_Medium         | no     | -0.1039 |   1.22   |  -0.09   | 0.93       |\n",
      "+------------------------+--------+---------+----------+----------+------------+\n",
      "| CURVES_Low             | no     | 0.0235  |   1.31   |   0.02   | 0.99       |\n",
      "+------------------------+--------+---------+----------+----------+------------+\n",
      "| CURVES_High            | no     | 0.4044  |   1.49   |   0.27   | 0.79       |\n",
      "+------------------------+--------+---------+----------+----------+------------+\n",
      "| ACCESS_0               | no     | 0.2906  |   3.02   |   0.10   | 0.92       |\n",
      "+------------------------+--------+---------+----------+----------+------------+\n",
      "| ACCESS_2               | no     | -0.0260 |   1.93   |  -0.01   | 0.99       |\n",
      "+------------------------+--------+---------+----------+----------+------------+\n",
      "| INTECHAG               | no     | 0.3461  |   0.52   |   0.66   | 0.51       |\n",
      "+------------------------+--------+---------+----------+----------+------------+\n",
      "| ADTLANE                | nil    | 0.0001  |   0.00   |   0.75   | 0.46       |\n",
      "+------------------------+--------+---------+----------+----------+------------+\n",
      "| SPEED                  | no     | 0.6187  |   4.04   |   0.15   | 0.88       |\n",
      "+------------------------+--------+---------+----------+----------+------------+\n",
      "| MEDWIDTH               | no     | 0.0956  |   1.39   |   0.07   | 0.95       |\n",
      "+------------------------+--------+---------+----------+----------+------------+\n",
      "| FC_1                   | no     | 0.2590  |   1.62   |   0.16   | 0.87       |\n",
      "+------------------------+--------+---------+----------+----------+------------+\n",
      "| FC_5                   | no     | 0.2412  |   1.42   |   0.17   | 0.87       |\n",
      "+------------------------+--------+---------+----------+----------+------------+\n",
      "| PEAKHR_High            | no     | -0.1797 |   1.64   |  -0.11   | 0.91       |\n",
      "+------------------------+--------+---------+----------+----------+------------+\n",
      "| MIGRADE                | no     | -0.0207 |   0.83   |  -0.02   | 0.98       |\n",
      "+------------------------+--------+---------+----------+----------+------------+\n",
      "| ADTLANE (Std. Dev.)    |        | 0.0001  |   0.00   |   1.29   | 0.20       |\n",
      "| tn_normal              |        |         |          |          |            |\n",
      "+------------------------+--------+---------+----------+----------+------------+\n",
      "| SPEED (Std. Dev.)      |        | 0.1993  |   1.19   |  -0.17   | 0.87       |\n",
      "| uniform                |        |         |          |          |            |\n",
      "+------------------------+--------+---------+----------+----------+------------+\n",
      "| MEDWIDTH (Std. Dev.)   |        | 0.4690  |   0.61   |  -0.78   | 0.44       |\n",
      "| tn_normal              |        |         |          |          |            |\n",
      "+------------------------+--------+---------+----------+----------+------------+\n",
      "| FC_1 (Std. Dev.)       |        | 0.7168  |   2.02   |  -0.36   | 0.72       |\n",
      "| uniform                |        |         |          |          |            |\n",
      "+------------------------+--------+---------+----------+----------+------------+\n",
      "| FC_5 (Std. Dev.)       |        | 0.0628  |   0.85   |  -0.07   | 0.94       |\n",
      "| normal                 |        |         |          |          |            |\n",
      "+------------------------+--------+---------+----------+----------+------------+\n",
      "| PEAKHR_High (Std.      |        | 0.2537  |   3.11   |  -0.08   | 0.93       |\n",
      "| Dev.) triangular       |        |         |          |          |            |\n",
      "+------------------------+--------+---------+----------+----------+------------+\n",
      "| MIGRADE (Std. Dev.)    |        | 0.4446  |   1.32   |   0.34   | 0.74       |\n",
      "| uniform                |        |         |          |          |            |\n",
      "+------------------------+--------+---------+----------+----------+------------+\n",
      "Optimization failed.\n",
      "Did not converge\n",
      "Optimization failed.\n",
      "Did not converge\n",
      "Optimization failed.\n",
      "Did not converge\n"
     ]
    },
    {
     "ename": "KeyboardInterrupt",
     "evalue": "",
     "output_type": "error",
     "traceback": [
      "\u001b[31m---------------------------------------------------------------------------\u001b[39m",
      "\u001b[31mKeyboardInterrupt\u001b[39m                         Traceback (most recent call last)",
      "\u001b[36mCell\u001b[39m\u001b[36m \u001b[39m\u001b[32mIn[12]\u001b[39m\u001b[32m, line 4\u001b[39m\n\u001b[32m      2\u001b[39m obj_fun = ObjectiveFunction(X, y, **arguments)\n\u001b[32m      3\u001b[39m \u001b[38;5;66;03m#perform harmony search\u001b[39;00m\n\u001b[32m----> \u001b[39m\u001b[32m4\u001b[39m results_hs = \u001b[43mharmony_search\u001b[49m\u001b[43m(\u001b[49m\u001b[43mobj_fun\u001b[49m\u001b[43m,\u001b[49m\u001b[43m \u001b[49m\u001b[43minitial_solution\u001b[49m\u001b[43m,\u001b[49m\u001b[43m \u001b[49m\u001b[43m*\u001b[49m\u001b[43m*\u001b[49m\u001b[43marguments_hs\u001b[49m\u001b[43m)\u001b[49m\n\u001b[32m      5\u001b[39m \u001b[38;5;66;03m#perform differential evolution\u001b[39;00m\n\u001b[32m      6\u001b[39m \u001b[33;03m''' Commenting out as only one metaheuristic should be used at a time, feel free to test the others\u001b[39;00m\n\u001b[32m      7\u001b[39m \u001b[33;03mresults_de = differential_evolution(obj_fun, initial_solution, **arguments_de)\u001b[39;00m\n\u001b[32m      8\u001b[39m \u001b[33;03m#perform simulated annealing\u001b[39;00m\n\u001b[32m      9\u001b[39m \u001b[33;03mresults_sa = simulated_annealing(obj_fun, initial_solution, **arguments_sa)'\u001b[39;00m\n\u001b[32m     10\u001b[39m \u001b[33;03m'''\u001b[39;00m\n",
      "\u001b[36mFile \u001b[39m\u001b[32m~\\AppData\\Local\\Packages\\PythonSoftwareFoundation.Python.3.11_qbz5n2kfra8p0\\LocalCache\\local-packages\\Python311\\site-packages\\metacountregressor\\metaheuristics.py:298\u001b[39m, in \u001b[36mharmony_search\u001b[39m\u001b[34m(objective_function, initial_harmonies, hyperparameters, **kwargs)\u001b[39m\n\u001b[32m    295\u001b[39m \u001b[38;5;28;01melse\u001b[39;00m:\n\u001b[32m    297\u001b[39m     hs = HarmonySearch(objective_function)\n\u001b[32m--> \u001b[39m\u001b[32m298\u001b[39m     results = \u001b[43mhs\u001b[49m\u001b[43m.\u001b[49m\u001b[43mrun\u001b[49m\u001b[43m(\u001b[49m\u001b[43minitial_harmonies\u001b[49m\u001b[43m,\u001b[49m\u001b[43m \u001b[49m\u001b[43mmod_init\u001b[49m\u001b[43m=\u001b[49m\u001b[43mman\u001b[49m\u001b[43m)\u001b[49m\n\u001b[32m    299\u001b[39m end = datetime.now()\n\u001b[32m    300\u001b[39m elapsed_time = end - start\n",
      "\u001b[36mFile \u001b[39m\u001b[32m~\\AppData\\Local\\Packages\\PythonSoftwareFoundation.Python.3.11_qbz5n2kfra8p0\\LocalCache\\local-packages\\Python311\\site-packages\\metacountregressor\\metaheuristics.py:1335\u001b[39m, in \u001b[36mHarmonySearch.run\u001b[39m\u001b[34m(self, initial_harmonies, mod_init)\u001b[39m\n\u001b[32m   1333\u001b[39m     \u001b[38;5;28mself\u001b[39m._obj_fun.set_random_seed()\n\u001b[32m   1334\u001b[39m \u001b[38;5;66;03m# fill harmony_memory using random parameter values by default, but with initial_harmonies if provided\u001b[39;00m\n\u001b[32m-> \u001b[39m\u001b[32m1335\u001b[39m \u001b[38;5;28;43mself\u001b[39;49m\u001b[43m.\u001b[49m\u001b[43m_initialize\u001b[49m\u001b[43m(\u001b[49m\u001b[43minitial_harmonies\u001b[49m\u001b[43m,\u001b[49m\u001b[43m \u001b[49m\u001b[43mmod_init\u001b[49m\u001b[43m)\u001b[49m\n\u001b[32m   1336\u001b[39m \u001b[38;5;28;01mif\u001b[39;00m \u001b[38;5;28mself\u001b[39m.print_verbose: \u001b[38;5;28mprint\u001b[39m(\u001b[33m'\u001b[39m\u001b[33mInitialization complete\u001b[39m\u001b[33m'\u001b[39m)\n\u001b[32m   1337\u001b[39m \u001b[38;5;28;01mif\u001b[39;00m \u001b[38;5;28mself\u001b[39m.pf.get_objective_is_multi():\n",
      "\u001b[36mFile \u001b[39m\u001b[32m~\\AppData\\Local\\Packages\\PythonSoftwareFoundation.Python.3.11_qbz5n2kfra8p0\\LocalCache\\local-packages\\Python311\\site-packages\\metacountregressor\\metaheuristics.py:1619\u001b[39m, in \u001b[36mHarmonySearch._initialize\u001b[39m\u001b[34m(self, initial_harmonies, model_nature)\u001b[39m\n\u001b[32m   1615\u001b[39m     initial_harmonies[\u001b[32m0\u001b[39m] = vector\n\u001b[32m   1617\u001b[39m \u001b[38;5;28;01mfor\u001b[39;00m i \u001b[38;5;129;01min\u001b[39;00m \u001b[38;5;28mrange\u001b[39m(\u001b[32m0\u001b[39m, \u001b[38;5;28mself\u001b[39m._obj_fun.get_hms()):\n\u001b[32m   1618\u001b[39m     \u001b[38;5;66;03m# print(initial_harmonies[i])\u001b[39;00m\n\u001b[32m-> \u001b[39m\u001b[32m1619\u001b[39m     fitness = \u001b[38;5;28;43mself\u001b[39;49m\u001b[43m.\u001b[49m\u001b[43m_obj_fun\u001b[49m\u001b[43m.\u001b[49m\u001b[43mget_fitness\u001b[49m\u001b[43m(\u001b[49m\u001b[43minitial_harmonies\u001b[49m\u001b[43m[\u001b[49m\u001b[43mi\u001b[49m\u001b[43m]\u001b[49m\u001b[43m,\u001b[49m\u001b[43m \u001b[49m\u001b[38;5;28;43mself\u001b[39;49m\u001b[43m.\u001b[49m\u001b[43mpf\u001b[49m\u001b[43m.\u001b[49m\u001b[43mget_objective_is_multi\u001b[49m\u001b[43m(\u001b[49m\u001b[43m)\u001b[49m\u001b[43m,\u001b[49m\u001b[43m \u001b[49m\u001b[43mmax_routine\u001b[49m\u001b[43m=\u001b[49m\u001b[32;43m2\u001b[39;49m\u001b[43m)\u001b[49m\n\u001b[32m   1620\u001b[39m     \u001b[38;5;66;03m# print(initial_harmonies[i])\u001b[39;00m\n\u001b[32m   1621\u001b[39m     \u001b[38;5;28;01mif\u001b[39;00m \u001b[38;5;28mself\u001b[39m.pf.get_objective_is_multi():\n",
      "\u001b[36mFile \u001b[39m\u001b[32m~\\AppData\\Local\\Packages\\PythonSoftwareFoundation.Python.3.11_qbz5n2kfra8p0\\LocalCache\\local-packages\\Python311\\site-packages\\metacountregressor\\solution.py:2438\u001b[39m, in \u001b[36mObjectiveFunction.get_fitness\u001b[39m\u001b[34m(self, vector, multi, verbose, max_routine)\u001b[39m\n\u001b[32m   2434\u001b[39m model_nature = \u001b[38;5;28mself\u001b[39m.get_distinct_model_parts(\n\u001b[32m   2435\u001b[39m     vector)  \u001b[38;5;66;03m# todo return insignificant p values\u001b[39;00m\n\u001b[32m   2437\u001b[39m a = {}\n\u001b[32m-> \u001b[39m\u001b[32m2438\u001b[39m obj_1, model_mod = \u001b[38;5;28;43mself\u001b[39;49m\u001b[43m.\u001b[49m\u001b[43mmakeRegression\u001b[49m\u001b[43m(\u001b[49m\u001b[43mmodel_nature\u001b[49m\u001b[43m,\u001b[49m\u001b[43m \u001b[49m\u001b[43mlayout\u001b[49m\u001b[43m=\u001b[49m\u001b[43mlayout\u001b[49m\u001b[43m,\u001b[49m\u001b[43m \u001b[49m\u001b[43m*\u001b[49m\u001b[43m*\u001b[49m\u001b[43ma\u001b[49m\u001b[43m)\u001b[49m\n\u001b[32m   2439\u001b[39m \u001b[38;5;28mself\u001b[39m.update_gbl_best(obj_1)\n\u001b[32m   2440\u001b[39m \u001b[38;5;28;01mif\u001b[39;00m \u001b[38;5;28mself\u001b[39m.pvalues \u001b[38;5;129;01mis\u001b[39;00m \u001b[38;5;28;01mNone\u001b[39;00m:\n",
      "\u001b[36mFile \u001b[39m\u001b[32m~\\AppData\\Local\\Packages\\PythonSoftwareFoundation.Python.3.11_qbz5n2kfra8p0\\LocalCache\\local-packages\\Python311\\site-packages\\metacountregressor\\solution.py:7271\u001b[39m, in \u001b[36mObjectiveFunction.makeRegression\u001b[39m\u001b[34m(self, model_nature, layout, *args, **kwargs)\u001b[39m\n\u001b[32m   7267\u001b[39m model_nature[\u001b[33m'\u001b[39m\u001b[33my\u001b[39m\u001b[33m'\u001b[39m] = y\n\u001b[32m   7269\u001b[39m \u001b[38;5;28;01mif\u001b[39;00m model_nature.get(\u001b[33m'\u001b[39m\u001b[33mdispersion\u001b[39m\u001b[33m'\u001b[39m) \u001b[38;5;129;01mis\u001b[39;00m \u001b[38;5;129;01mnot\u001b[39;00m \u001b[38;5;28;01mNone\u001b[39;00m:\n\u001b[32m-> \u001b[39m\u001b[32m7271\u001b[39m     obj_1, log_lik, betas, stderr, pvalues, zvalues, is_halton, is_delete = \u001b[38;5;28;43mself\u001b[39;49m\u001b[43m.\u001b[49m\u001b[43mfitRegression\u001b[49m\u001b[43m(\u001b[49m\u001b[43mmodel_nature\u001b[49m\u001b[43m)\u001b[49m\n\u001b[32m   7272\u001b[39m     \u001b[38;5;28;01mif\u001b[39;00m obj_1 \u001b[38;5;129;01mis\u001b[39;00m \u001b[38;5;28;01mNone\u001b[39;00m:\n\u001b[32m   7273\u001b[39m         obj_1 = Solution()\n",
      "\u001b[36mFile \u001b[39m\u001b[32m~\\AppData\\Local\\Packages\\PythonSoftwareFoundation.Python.3.11_qbz5n2kfra8p0\\LocalCache\\local-packages\\Python311\\site-packages\\metacountregressor\\solution.py:6291\u001b[39m, in \u001b[36mObjectiveFunction.fitRegression\u001b[39m\u001b[34m(self, mod, dispersion, maxiter, batch_size, num_hess, **kwargs)\u001b[39m\n\u001b[32m   6287\u001b[39m bounds = \u001b[38;5;28mself\u001b[39m._set_bounds(initial_params, dispersion)\n\u001b[32m   6290\u001b[39m \u001b[38;5;66;03m# Run optimization\u001b[39;00m\n\u001b[32m-> \u001b[39m\u001b[32m6291\u001b[39m optimization_result = \u001b[38;5;28;43mself\u001b[39;49m\u001b[43m.\u001b[49m\u001b[43m_run_optimization\u001b[49m\u001b[43m(\u001b[49m\n\u001b[32m   6292\u001b[39m \u001b[43m    \u001b[49m\u001b[43mXX\u001b[49m\u001b[43m,\u001b[49m\u001b[43m \u001b[49m\u001b[43my\u001b[49m\u001b[43m,\u001b[49m\u001b[43m \u001b[49m\u001b[43mdispersion\u001b[49m\u001b[43m,\u001b[49m\u001b[43m \u001b[49m\u001b[43minitial_params\u001b[49m\u001b[43m,\u001b[49m\u001b[43m \u001b[49m\u001b[43mbounds\u001b[49m\u001b[43m,\u001b[49m\u001b[43m \u001b[49m\u001b[43mtol\u001b[49m\u001b[43m,\u001b[49m\u001b[43m \u001b[49m\u001b[43mmod\u001b[49m\n\u001b[32m   6293\u001b[39m \u001b[43m\u001b[49m\u001b[43m)\u001b[49m\n\u001b[32m   6295\u001b[39m \u001b[38;5;66;03m# Post-process results\u001b[39;00m\n\u001b[32m   6296\u001b[39m log_lik, aic, bic, stderr, zvalues, pvalues, in_sample_mae, out_sample_mae = \u001b[38;5;28mself\u001b[39m._postprocess_results(\n\u001b[32m   6297\u001b[39m     optimization_result, XX, XX_test, y, mod.get(\u001b[33m'\u001b[39m\u001b[33my_test\u001b[39m\u001b[33m'\u001b[39m), dispersion, mod\n\u001b[32m   6298\u001b[39m )\n",
      "\u001b[36mFile \u001b[39m\u001b[32m~\\AppData\\Local\\Packages\\PythonSoftwareFoundation.Python.3.11_qbz5n2kfra8p0\\LocalCache\\local-packages\\Python311\\site-packages\\metacountregressor\\solution.py:5949\u001b[39m, in \u001b[36mObjectiveFunction._run_optimization\u001b[39m\u001b[34m(self, XX, y, dispersion, initial_params, bounds, tol, mod)\u001b[39m\n\u001b[32m   5944\u001b[39m args=(\n\u001b[32m   5945\u001b[39m         X, y, draws, X, Xr, \u001b[38;5;28mself\u001b[39m.batch_size, \u001b[38;5;28mself\u001b[39m.grad_yes, \u001b[38;5;28mself\u001b[39m.hess_yes, dispersion, \u001b[32m0\u001b[39m, \u001b[38;5;28;01mFalse\u001b[39;00m, \u001b[32m0\u001b[39m,\n\u001b[32m   5946\u001b[39m         \u001b[38;5;28mself\u001b[39m.rdm_cor_fit, \u001b[38;5;28;01mNone\u001b[39;00m, \u001b[38;5;28;01mNone\u001b[39;00m, draws_grouped, XG, mod\n\u001b[32m   5947\u001b[39m     )\n\u001b[32m   5948\u001b[39m \u001b[38;5;66;03m# Run optimization\u001b[39;00m\n\u001b[32m-> \u001b[39m\u001b[32m5949\u001b[39m optimization_result = \u001b[38;5;28;43mself\u001b[39;49m\u001b[43m.\u001b[49m\u001b[43m_minimize\u001b[49m\u001b[43m(\u001b[49m\n\u001b[32m   5950\u001b[39m \u001b[43m    \u001b[49m\u001b[38;5;28;43mself\u001b[39;49m\u001b[43m.\u001b[49m\u001b[43m_loglik_gradient\u001b[49m\u001b[43m,\u001b[49m\n\u001b[32m   5951\u001b[39m \u001b[43m    \u001b[49m\u001b[43minitial_params\u001b[49m\u001b[43m,\u001b[49m\n\u001b[32m   5952\u001b[39m \u001b[43m    \u001b[49m\u001b[43margs\u001b[49m\u001b[43m=\u001b[49m\u001b[43m(\u001b[49m\n\u001b[32m   5953\u001b[39m \u001b[43m        \u001b[49m\u001b[43mX\u001b[49m\u001b[43m,\u001b[49m\u001b[43m \u001b[49m\u001b[43my\u001b[49m\u001b[43m,\u001b[49m\u001b[43m \u001b[49m\u001b[43mdraws\u001b[49m\u001b[43m,\u001b[49m\u001b[43m \u001b[49m\u001b[43mX\u001b[49m\u001b[43m,\u001b[49m\u001b[43m \u001b[49m\u001b[43mXr\u001b[49m\u001b[43m,\u001b[49m\u001b[43m \u001b[49m\u001b[38;5;28;43mself\u001b[39;49m\u001b[43m.\u001b[49m\u001b[43mbatch_size\u001b[49m\u001b[43m,\u001b[49m\u001b[43m \u001b[49m\u001b[38;5;28;43mself\u001b[39;49m\u001b[43m.\u001b[49m\u001b[43mgrad_yes\u001b[49m\u001b[43m,\u001b[49m\u001b[43m \u001b[49m\u001b[38;5;28;43mself\u001b[39;49m\u001b[43m.\u001b[49m\u001b[43mhess_yes\u001b[49m\u001b[43m,\u001b[49m\u001b[43m \u001b[49m\u001b[43mdispersion\u001b[49m\u001b[43m,\u001b[49m\u001b[43m \u001b[49m\u001b[32;43m0\u001b[39;49m\u001b[43m,\u001b[49m\u001b[43m \u001b[49m\u001b[38;5;28;43;01mFalse\u001b[39;49;00m\u001b[43m,\u001b[49m\u001b[43m \u001b[49m\u001b[32;43m0\u001b[39;49m\u001b[43m,\u001b[49m\n\u001b[32m   5954\u001b[39m \u001b[43m        \u001b[49m\u001b[38;5;28;43mself\u001b[39;49m\u001b[43m.\u001b[49m\u001b[43mrdm_cor_fit\u001b[49m\u001b[43m,\u001b[49m\u001b[43m \u001b[49m\u001b[38;5;28;43;01mNone\u001b[39;49;00m\u001b[43m,\u001b[49m\u001b[43m \u001b[49m\u001b[38;5;28;43;01mNone\u001b[39;49;00m\u001b[43m,\u001b[49m\u001b[43m \u001b[49m\u001b[43mdraws_grouped\u001b[49m\u001b[43m,\u001b[49m\u001b[43m \u001b[49m\u001b[43mXG\u001b[49m\u001b[43m,\u001b[49m\u001b[43m \u001b[49m\u001b[43mmod\u001b[49m\n\u001b[32m   5955\u001b[39m \u001b[43m    \u001b[49m\u001b[43m)\u001b[49m\u001b[43m,\u001b[49m\n\u001b[32m   5956\u001b[39m \u001b[43m    \u001b[49m\u001b[43mmethod\u001b[49m\u001b[43m=\u001b[49m\u001b[43mmethod\u001b[49m\u001b[43m,\u001b[49m\n\u001b[32m   5957\u001b[39m \u001b[43m    \u001b[49m\u001b[43mbounds\u001b[49m\u001b[43m=\u001b[49m\u001b[43mbounds\u001b[49m\u001b[43m,\u001b[49m\n\u001b[32m   5958\u001b[39m \u001b[43m    \u001b[49m\u001b[43mtol\u001b[49m\u001b[43m=\u001b[49m\u001b[43mtol\u001b[49m\u001b[43m.\u001b[49m\u001b[43mget\u001b[49m\u001b[43m(\u001b[49m\u001b[33;43m'\u001b[39;49m\u001b[33;43mftol\u001b[39;49m\u001b[33;43m'\u001b[39;49m\u001b[43m,\u001b[49m\u001b[43m \u001b[49m\u001b[32;43m1e-8\u001b[39;49m\u001b[43m)\u001b[49m\u001b[43m,\u001b[49m\u001b[43m  \u001b[49m\u001b[38;5;66;43;03m# Use 'ftol' as the default tolerance\u001b[39;49;00m\n\u001b[32m   5959\u001b[39m \u001b[43m    \u001b[49m\u001b[43moptions\u001b[49m\u001b[43m=\u001b[49m\u001b[43moptions\u001b[49m\n\u001b[32m   5960\u001b[39m \u001b[43m\u001b[49m\u001b[43m)\u001b[49m\n\u001b[32m   5964\u001b[39m \u001b[38;5;66;03m# Run the bootstrap to calculate standard errors\u001b[39;00m\n\u001b[32m   5965\u001b[39m \u001b[38;5;28;01mif\u001b[39;00m \u001b[38;5;28mself\u001b[39m.run_bootstrap:\n",
      "\u001b[36mFile \u001b[39m\u001b[32m~\\AppData\\Local\\Packages\\PythonSoftwareFoundation.Python.3.11_qbz5n2kfra8p0\\LocalCache\\local-packages\\Python311\\site-packages\\metacountregressor\\solution.py:5414\u001b[39m, in \u001b[36mObjectiveFunction._minimize\u001b[39m\u001b[34m(self, loglik_fn, x, args, method, tol, options, bounds, hess_calc)\u001b[39m\n\u001b[32m   5412\u001b[39m         \u001b[38;5;28;01mreturn\u001b[39;00m result\n\u001b[32m   5413\u001b[39m \u001b[38;5;28;01melif\u001b[39;00m method == \u001b[33m'\u001b[39m\u001b[33mBFGS_2\u001b[39m\u001b[33m'\u001b[39m:\n\u001b[32m-> \u001b[39m\u001b[32m5414\u001b[39m     \u001b[38;5;28;01mreturn\u001b[39;00m \u001b[43mminimize\u001b[49m\u001b[43m(\u001b[49m\u001b[43mloglik_fn\u001b[49m\u001b[43m,\u001b[49m\u001b[43m \u001b[49m\u001b[43mx\u001b[49m\u001b[43m,\u001b[49m\u001b[43m \u001b[49m\u001b[43margs\u001b[49m\u001b[43m=\u001b[49m\u001b[43margs\u001b[49m\u001b[43m,\u001b[49m\u001b[43m \u001b[49m\u001b[43mjac\u001b[49m\u001b[43m=\u001b[49m\u001b[43margs\u001b[49m\u001b[43m[\u001b[49m\u001b[32;43m6\u001b[39;49m\u001b[43m]\u001b[49m\u001b[43m,\u001b[49m\u001b[43m \u001b[49m\u001b[43mmethod\u001b[49m\u001b[43m=\u001b[49m\u001b[33;43m'\u001b[39;49m\u001b[33;43mBFGS\u001b[39;49m\u001b[33;43m'\u001b[39;49m\u001b[43m)\u001b[49m\n\u001b[32m   5415\u001b[39m \u001b[38;5;28;01melif\u001b[39;00m method == \u001b[33m\"\u001b[39m\u001b[33mL-BFGS-B\u001b[39m\u001b[33m\"\u001b[39m:\n\u001b[32m   5417\u001b[39m     \u001b[38;5;28;01mreturn\u001b[39;00m minimize(loglik_fn, x, args=args, jac=args[\u001b[32m6\u001b[39m], hess=args[\u001b[32m7\u001b[39m], method=\u001b[33m'\u001b[39m\u001b[33mL-BFGS-B\u001b[39m\u001b[33m'\u001b[39m, bounds=bounds,\n\u001b[32m   5418\u001b[39m                     tol=tol, options=options)\n",
      "\u001b[36mFile \u001b[39m\u001b[32m~\\AppData\\Local\\Packages\\PythonSoftwareFoundation.Python.3.11_qbz5n2kfra8p0\\LocalCache\\local-packages\\Python311\\site-packages\\scipy\\optimize\\_minimize.py:733\u001b[39m, in \u001b[36mminimize\u001b[39m\u001b[34m(fun, x0, args, method, jac, hess, hessp, bounds, constraints, tol, callback, options)\u001b[39m\n\u001b[32m    731\u001b[39m     res = _minimize_cg(fun, x0, args, jac, callback, **options)\n\u001b[32m    732\u001b[39m \u001b[38;5;28;01melif\u001b[39;00m meth == \u001b[33m'\u001b[39m\u001b[33mbfgs\u001b[39m\u001b[33m'\u001b[39m:\n\u001b[32m--> \u001b[39m\u001b[32m733\u001b[39m     res = \u001b[43m_minimize_bfgs\u001b[49m\u001b[43m(\u001b[49m\u001b[43mfun\u001b[49m\u001b[43m,\u001b[49m\u001b[43m \u001b[49m\u001b[43mx0\u001b[49m\u001b[43m,\u001b[49m\u001b[43m \u001b[49m\u001b[43margs\u001b[49m\u001b[43m,\u001b[49m\u001b[43m \u001b[49m\u001b[43mjac\u001b[49m\u001b[43m,\u001b[49m\u001b[43m \u001b[49m\u001b[43mcallback\u001b[49m\u001b[43m,\u001b[49m\u001b[43m \u001b[49m\u001b[43m*\u001b[49m\u001b[43m*\u001b[49m\u001b[43moptions\u001b[49m\u001b[43m)\u001b[49m\n\u001b[32m    734\u001b[39m \u001b[38;5;28;01melif\u001b[39;00m meth == \u001b[33m'\u001b[39m\u001b[33mnewton-cg\u001b[39m\u001b[33m'\u001b[39m:\n\u001b[32m    735\u001b[39m     res = _minimize_newtoncg(fun, x0, args, jac, hess, hessp, callback,\n\u001b[32m    736\u001b[39m                              **options)\n",
      "\u001b[36mFile \u001b[39m\u001b[32m~\\AppData\\Local\\Packages\\PythonSoftwareFoundation.Python.3.11_qbz5n2kfra8p0\\LocalCache\\local-packages\\Python311\\site-packages\\scipy\\optimize\\_optimize.py:1419\u001b[39m, in \u001b[36m_minimize_bfgs\u001b[39m\u001b[34m(fun, x0, args, jac, callback, gtol, norm, eps, maxiter, disp, return_all, finite_diff_rel_step, xrtol, c1, c2, hess_inv0, **unknown_options)\u001b[39m\n\u001b[32m   1416\u001b[39m pk = -np.dot(Hk, gfk)\n\u001b[32m   1417\u001b[39m \u001b[38;5;28;01mtry\u001b[39;00m:\n\u001b[32m   1418\u001b[39m     alpha_k, fc, gc, old_fval, old_old_fval, gfkp1 = \\\n\u001b[32m-> \u001b[39m\u001b[32m1419\u001b[39m              \u001b[43m_line_search_wolfe12\u001b[49m\u001b[43m(\u001b[49m\u001b[43mf\u001b[49m\u001b[43m,\u001b[49m\u001b[43m \u001b[49m\u001b[43mmyfprime\u001b[49m\u001b[43m,\u001b[49m\u001b[43m \u001b[49m\u001b[43mxk\u001b[49m\u001b[43m,\u001b[49m\u001b[43m \u001b[49m\u001b[43mpk\u001b[49m\u001b[43m,\u001b[49m\u001b[43m \u001b[49m\u001b[43mgfk\u001b[49m\u001b[43m,\u001b[49m\n\u001b[32m   1420\u001b[39m \u001b[43m                                  \u001b[49m\u001b[43mold_fval\u001b[49m\u001b[43m,\u001b[49m\u001b[43m \u001b[49m\u001b[43mold_old_fval\u001b[49m\u001b[43m,\u001b[49m\u001b[43m \u001b[49m\u001b[43mamin\u001b[49m\u001b[43m=\u001b[49m\u001b[32;43m1e-100\u001b[39;49m\u001b[43m,\u001b[49m\n\u001b[32m   1421\u001b[39m \u001b[43m                                  \u001b[49m\u001b[43mamax\u001b[49m\u001b[43m=\u001b[49m\u001b[32;43m1e100\u001b[39;49m\u001b[43m,\u001b[49m\u001b[43m \u001b[49m\u001b[43mc1\u001b[49m\u001b[43m=\u001b[49m\u001b[43mc1\u001b[49m\u001b[43m,\u001b[49m\u001b[43m \u001b[49m\u001b[43mc2\u001b[49m\u001b[43m=\u001b[49m\u001b[43mc2\u001b[49m\u001b[43m)\u001b[49m\n\u001b[32m   1422\u001b[39m \u001b[38;5;28;01mexcept\u001b[39;00m _LineSearchError:\n\u001b[32m   1423\u001b[39m     \u001b[38;5;66;03m# Line search failed to find a better solution.\u001b[39;00m\n\u001b[32m   1424\u001b[39m     warnflag = \u001b[32m2\u001b[39m\n",
      "\u001b[36mFile \u001b[39m\u001b[32m~\\AppData\\Local\\Packages\\PythonSoftwareFoundation.Python.3.11_qbz5n2kfra8p0\\LocalCache\\local-packages\\Python311\\site-packages\\scipy\\optimize\\_optimize.py:1155\u001b[39m, in \u001b[36m_line_search_wolfe12\u001b[39m\u001b[34m(f, fprime, xk, pk, gfk, old_fval, old_old_fval, **kwargs)\u001b[39m\n\u001b[32m   1141\u001b[39m \u001b[38;5;250m\u001b[39m\u001b[33;03m\"\"\"\u001b[39;00m\n\u001b[32m   1142\u001b[39m \u001b[33;03mSame as line_search_wolfe1, but fall back to line_search_wolfe2 if\u001b[39;00m\n\u001b[32m   1143\u001b[39m \u001b[33;03msuitable step length is not found, and raise an exception if a\u001b[39;00m\n\u001b[32m   (...)\u001b[39m\u001b[32m   1150\u001b[39m \n\u001b[32m   1151\u001b[39m \u001b[33;03m\"\"\"\u001b[39;00m\n\u001b[32m   1153\u001b[39m extra_condition = kwargs.pop(\u001b[33m'\u001b[39m\u001b[33mextra_condition\u001b[39m\u001b[33m'\u001b[39m, \u001b[38;5;28;01mNone\u001b[39;00m)\n\u001b[32m-> \u001b[39m\u001b[32m1155\u001b[39m ret = \u001b[43mline_search_wolfe1\u001b[49m\u001b[43m(\u001b[49m\u001b[43mf\u001b[49m\u001b[43m,\u001b[49m\u001b[43m \u001b[49m\u001b[43mfprime\u001b[49m\u001b[43m,\u001b[49m\u001b[43m \u001b[49m\u001b[43mxk\u001b[49m\u001b[43m,\u001b[49m\u001b[43m \u001b[49m\u001b[43mpk\u001b[49m\u001b[43m,\u001b[49m\u001b[43m \u001b[49m\u001b[43mgfk\u001b[49m\u001b[43m,\u001b[49m\n\u001b[32m   1156\u001b[39m \u001b[43m                         \u001b[49m\u001b[43mold_fval\u001b[49m\u001b[43m,\u001b[49m\u001b[43m \u001b[49m\u001b[43mold_old_fval\u001b[49m\u001b[43m,\u001b[49m\n\u001b[32m   1157\u001b[39m \u001b[43m                         \u001b[49m\u001b[43m*\u001b[49m\u001b[43m*\u001b[49m\u001b[43mkwargs\u001b[49m\u001b[43m)\u001b[49m\n\u001b[32m   1159\u001b[39m \u001b[38;5;28;01mif\u001b[39;00m ret[\u001b[32m0\u001b[39m] \u001b[38;5;129;01mis\u001b[39;00m \u001b[38;5;129;01mnot\u001b[39;00m \u001b[38;5;28;01mNone\u001b[39;00m \u001b[38;5;129;01mand\u001b[39;00m extra_condition \u001b[38;5;129;01mis\u001b[39;00m \u001b[38;5;129;01mnot\u001b[39;00m \u001b[38;5;28;01mNone\u001b[39;00m:\n\u001b[32m   1160\u001b[39m     xp1 = xk + ret[\u001b[32m0\u001b[39m] * pk\n",
      "\u001b[36mFile \u001b[39m\u001b[32m~\\AppData\\Local\\Packages\\PythonSoftwareFoundation.Python.3.11_qbz5n2kfra8p0\\LocalCache\\local-packages\\Python311\\site-packages\\scipy\\optimize\\_linesearch.py:93\u001b[39m, in \u001b[36mline_search_wolfe1\u001b[39m\u001b[34m(f, fprime, xk, pk, gfk, old_fval, old_old_fval, args, c1, c2, amax, amin, xtol)\u001b[39m\n\u001b[32m     89\u001b[39m     \u001b[38;5;28;01mreturn\u001b[39;00m np.dot(gval[\u001b[32m0\u001b[39m], pk)\n\u001b[32m     91\u001b[39m derphi0 = np.dot(gfk, pk)\n\u001b[32m---> \u001b[39m\u001b[32m93\u001b[39m stp, fval, old_fval = \u001b[43mscalar_search_wolfe1\u001b[49m\u001b[43m(\u001b[49m\n\u001b[32m     94\u001b[39m \u001b[43m        \u001b[49m\u001b[43mphi\u001b[49m\u001b[43m,\u001b[49m\u001b[43m \u001b[49m\u001b[43mderphi\u001b[49m\u001b[43m,\u001b[49m\u001b[43m \u001b[49m\u001b[43mold_fval\u001b[49m\u001b[43m,\u001b[49m\u001b[43m \u001b[49m\u001b[43mold_old_fval\u001b[49m\u001b[43m,\u001b[49m\u001b[43m \u001b[49m\u001b[43mderphi0\u001b[49m\u001b[43m,\u001b[49m\n\u001b[32m     95\u001b[39m \u001b[43m        \u001b[49m\u001b[43mc1\u001b[49m\u001b[43m=\u001b[49m\u001b[43mc1\u001b[49m\u001b[43m,\u001b[49m\u001b[43m \u001b[49m\u001b[43mc2\u001b[49m\u001b[43m=\u001b[49m\u001b[43mc2\u001b[49m\u001b[43m,\u001b[49m\u001b[43m \u001b[49m\u001b[43mamax\u001b[49m\u001b[43m=\u001b[49m\u001b[43mamax\u001b[49m\u001b[43m,\u001b[49m\u001b[43m \u001b[49m\u001b[43mamin\u001b[49m\u001b[43m=\u001b[49m\u001b[43mamin\u001b[49m\u001b[43m,\u001b[49m\u001b[43m \u001b[49m\u001b[43mxtol\u001b[49m\u001b[43m=\u001b[49m\u001b[43mxtol\u001b[49m\u001b[43m)\u001b[49m\n\u001b[32m     97\u001b[39m \u001b[38;5;28;01mreturn\u001b[39;00m stp, fc[\u001b[32m0\u001b[39m], gc[\u001b[32m0\u001b[39m], fval, old_fval, gval[\u001b[32m0\u001b[39m]\n",
      "\u001b[36mFile \u001b[39m\u001b[32m~\\AppData\\Local\\Packages\\PythonSoftwareFoundation.Python.3.11_qbz5n2kfra8p0\\LocalCache\\local-packages\\Python311\\site-packages\\scipy\\optimize\\_linesearch.py:170\u001b[39m, in \u001b[36mscalar_search_wolfe1\u001b[39m\u001b[34m(phi, derphi, phi0, old_phi0, derphi0, c1, c2, amax, amin, xtol)\u001b[39m\n\u001b[32m    167\u001b[39m maxiter = \u001b[32m100\u001b[39m\n\u001b[32m    169\u001b[39m dcsrch = DCSRCH(phi, derphi, c1, c2, xtol, amin, amax)\n\u001b[32m--> \u001b[39m\u001b[32m170\u001b[39m stp, phi1, phi0, task = \u001b[43mdcsrch\u001b[49m\u001b[43m(\u001b[49m\n\u001b[32m    171\u001b[39m \u001b[43m    \u001b[49m\u001b[43malpha1\u001b[49m\u001b[43m,\u001b[49m\u001b[43m \u001b[49m\u001b[43mphi0\u001b[49m\u001b[43m=\u001b[49m\u001b[43mphi0\u001b[49m\u001b[43m,\u001b[49m\u001b[43m \u001b[49m\u001b[43mderphi0\u001b[49m\u001b[43m=\u001b[49m\u001b[43mderphi0\u001b[49m\u001b[43m,\u001b[49m\u001b[43m \u001b[49m\u001b[43mmaxiter\u001b[49m\u001b[43m=\u001b[49m\u001b[43mmaxiter\u001b[49m\n\u001b[32m    172\u001b[39m \u001b[43m\u001b[49m\u001b[43m)\u001b[49m\n\u001b[32m    174\u001b[39m \u001b[38;5;28;01mreturn\u001b[39;00m stp, phi1, phi0\n",
      "\u001b[36mFile \u001b[39m\u001b[32m~\\AppData\\Local\\Packages\\PythonSoftwareFoundation.Python.3.11_qbz5n2kfra8p0\\LocalCache\\local-packages\\Python311\\site-packages\\scipy\\optimize\\_dcsrch.py:256\u001b[39m, in \u001b[36mDCSRCH.__call__\u001b[39m\u001b[34m(self, alpha1, phi0, derphi0, maxiter)\u001b[39m\n\u001b[32m    254\u001b[39m     alpha1 = stp\n\u001b[32m    255\u001b[39m     phi1 = \u001b[38;5;28mself\u001b[39m.phi(stp)\n\u001b[32m--> \u001b[39m\u001b[32m256\u001b[39m     derphi1 = \u001b[38;5;28;43mself\u001b[39;49m\u001b[43m.\u001b[49m\u001b[43mderphi\u001b[49m\u001b[43m(\u001b[49m\u001b[43mstp\u001b[49m\u001b[43m)\u001b[49m\n\u001b[32m    257\u001b[39m \u001b[38;5;28;01melse\u001b[39;00m:\n\u001b[32m    258\u001b[39m     \u001b[38;5;28;01mbreak\u001b[39;00m\n",
      "\u001b[36mFile \u001b[39m\u001b[32m~\\AppData\\Local\\Packages\\PythonSoftwareFoundation.Python.3.11_qbz5n2kfra8p0\\LocalCache\\local-packages\\Python311\\site-packages\\scipy\\optimize\\_linesearch.py:87\u001b[39m, in \u001b[36mline_search_wolfe1.<locals>.derphi\u001b[39m\u001b[34m(s)\u001b[39m\n\u001b[32m     86\u001b[39m \u001b[38;5;28;01mdef\u001b[39;00m\u001b[38;5;250m \u001b[39m\u001b[34mderphi\u001b[39m(s):\n\u001b[32m---> \u001b[39m\u001b[32m87\u001b[39m     gval[\u001b[32m0\u001b[39m] = \u001b[43mfprime\u001b[49m\u001b[43m(\u001b[49m\u001b[43mxk\u001b[49m\u001b[43m \u001b[49m\u001b[43m+\u001b[49m\u001b[43m \u001b[49m\u001b[43ms\u001b[49m\u001b[43m*\u001b[49m\u001b[43mpk\u001b[49m\u001b[43m,\u001b[49m\u001b[43m \u001b[49m\u001b[43m*\u001b[49m\u001b[43margs\u001b[49m\u001b[43m)\u001b[49m\n\u001b[32m     88\u001b[39m     gc[\u001b[32m0\u001b[39m] += \u001b[32m1\u001b[39m\n\u001b[32m     89\u001b[39m     \u001b[38;5;28;01mreturn\u001b[39;00m np.dot(gval[\u001b[32m0\u001b[39m], pk)\n",
      "\u001b[36mFile \u001b[39m\u001b[32m~\\AppData\\Local\\Packages\\PythonSoftwareFoundation.Python.3.11_qbz5n2kfra8p0\\LocalCache\\local-packages\\Python311\\site-packages\\scipy\\optimize\\_differentiable_functions.py:332\u001b[39m, in \u001b[36mScalarFunction.grad\u001b[39m\u001b[34m(self, x)\u001b[39m\n\u001b[32m    330\u001b[39m \u001b[38;5;28;01mif\u001b[39;00m \u001b[38;5;129;01mnot\u001b[39;00m np.array_equal(x, \u001b[38;5;28mself\u001b[39m.x):\n\u001b[32m    331\u001b[39m     \u001b[38;5;28mself\u001b[39m._update_x(x)\n\u001b[32m--> \u001b[39m\u001b[32m332\u001b[39m \u001b[38;5;28;43mself\u001b[39;49m\u001b[43m.\u001b[49m\u001b[43m_update_grad\u001b[49m\u001b[43m(\u001b[49m\u001b[43m)\u001b[49m\n\u001b[32m    333\u001b[39m \u001b[38;5;28;01mreturn\u001b[39;00m \u001b[38;5;28mself\u001b[39m.g\n",
      "\u001b[36mFile \u001b[39m\u001b[32m~\\AppData\\Local\\Packages\\PythonSoftwareFoundation.Python.3.11_qbz5n2kfra8p0\\LocalCache\\local-packages\\Python311\\site-packages\\scipy\\optimize\\_differentiable_functions.py:307\u001b[39m, in \u001b[36mScalarFunction._update_grad\u001b[39m\u001b[34m(self)\u001b[39m\n\u001b[32m    305\u001b[39m \u001b[38;5;28;01mif\u001b[39;00m \u001b[38;5;28mself\u001b[39m._orig_grad \u001b[38;5;129;01min\u001b[39;00m FD_METHODS:\n\u001b[32m    306\u001b[39m     \u001b[38;5;28mself\u001b[39m._update_fun()\n\u001b[32m--> \u001b[39m\u001b[32m307\u001b[39m \u001b[38;5;28mself\u001b[39m.g = \u001b[38;5;28;43mself\u001b[39;49m\u001b[43m.\u001b[49m\u001b[43m_wrapped_grad\u001b[49m\u001b[43m(\u001b[49m\u001b[38;5;28;43mself\u001b[39;49m\u001b[43m.\u001b[49m\u001b[43mx\u001b[49m\u001b[43m,\u001b[49m\u001b[43m \u001b[49m\u001b[43mf0\u001b[49m\u001b[43m=\u001b[49m\u001b[38;5;28;43mself\u001b[39;49m\u001b[43m.\u001b[49m\u001b[43mf\u001b[49m\u001b[43m)\u001b[49m\n\u001b[32m    308\u001b[39m \u001b[38;5;28mself\u001b[39m.g_updated = \u001b[38;5;28;01mTrue\u001b[39;00m\n",
      "\u001b[36mFile \u001b[39m\u001b[32m~\\AppData\\Local\\Packages\\PythonSoftwareFoundation.Python.3.11_qbz5n2kfra8p0\\LocalCache\\local-packages\\Python311\\site-packages\\scipy\\optimize\\_differentiable_functions.py:48\u001b[39m, in \u001b[36m_wrapper_grad.<locals>.wrapped1\u001b[39m\u001b[34m(x, f0)\u001b[39m\n\u001b[32m     46\u001b[39m \u001b[38;5;28;01mdef\u001b[39;00m\u001b[38;5;250m \u001b[39m\u001b[34mwrapped1\u001b[39m(x, f0=\u001b[38;5;28;01mNone\u001b[39;00m):\n\u001b[32m     47\u001b[39m     ncalls[\u001b[32m0\u001b[39m] += \u001b[32m1\u001b[39m\n\u001b[32m---> \u001b[39m\u001b[32m48\u001b[39m     \u001b[38;5;28;01mreturn\u001b[39;00m \u001b[43mapprox_derivative\u001b[49m\u001b[43m(\u001b[49m\n\u001b[32m     49\u001b[39m \u001b[43m        \u001b[49m\u001b[43mfun\u001b[49m\u001b[43m,\u001b[49m\u001b[43m \u001b[49m\u001b[43mx\u001b[49m\u001b[43m,\u001b[49m\u001b[43m \u001b[49m\u001b[43mf0\u001b[49m\u001b[43m=\u001b[49m\u001b[43mf0\u001b[49m\u001b[43m,\u001b[49m\u001b[43m \u001b[49m\u001b[43m*\u001b[49m\u001b[43m*\u001b[49m\u001b[43mfinite_diff_options\u001b[49m\n\u001b[32m     50\u001b[39m \u001b[43m    \u001b[49m\u001b[43m)\u001b[49m\n",
      "\u001b[36mFile \u001b[39m\u001b[32m~\\AppData\\Local\\Packages\\PythonSoftwareFoundation.Python.3.11_qbz5n2kfra8p0\\LocalCache\\local-packages\\Python311\\site-packages\\scipy\\optimize\\_numdiff.py:523\u001b[39m, in \u001b[36mapprox_derivative\u001b[39m\u001b[34m(fun, x0, method, rel_step, abs_step, f0, bounds, sparsity, as_linear_operator, args, kwargs)\u001b[39m\n\u001b[32m    520\u001b[39m     use_one_sided = \u001b[38;5;28;01mFalse\u001b[39;00m\n\u001b[32m    522\u001b[39m \u001b[38;5;28;01mif\u001b[39;00m sparsity \u001b[38;5;129;01mis\u001b[39;00m \u001b[38;5;28;01mNone\u001b[39;00m:\n\u001b[32m--> \u001b[39m\u001b[32m523\u001b[39m     \u001b[38;5;28;01mreturn\u001b[39;00m \u001b[43m_dense_difference\u001b[49m\u001b[43m(\u001b[49m\u001b[43mfun_wrapped\u001b[49m\u001b[43m,\u001b[49m\u001b[43m \u001b[49m\u001b[43mx0\u001b[49m\u001b[43m,\u001b[49m\u001b[43m \u001b[49m\u001b[43mf0\u001b[49m\u001b[43m,\u001b[49m\u001b[43m \u001b[49m\u001b[43mh\u001b[49m\u001b[43m,\u001b[49m\n\u001b[32m    524\u001b[39m \u001b[43m                             \u001b[49m\u001b[43muse_one_sided\u001b[49m\u001b[43m,\u001b[49m\u001b[43m \u001b[49m\u001b[43mmethod\u001b[49m\u001b[43m)\u001b[49m\n\u001b[32m    525\u001b[39m \u001b[38;5;28;01melse\u001b[39;00m:\n\u001b[32m    526\u001b[39m     \u001b[38;5;28;01mif\u001b[39;00m \u001b[38;5;129;01mnot\u001b[39;00m issparse(sparsity) \u001b[38;5;129;01mand\u001b[39;00m \u001b[38;5;28mlen\u001b[39m(sparsity) == \u001b[32m2\u001b[39m:\n",
      "\u001b[36mFile \u001b[39m\u001b[32m~\\AppData\\Local\\Packages\\PythonSoftwareFoundation.Python.3.11_qbz5n2kfra8p0\\LocalCache\\local-packages\\Python311\\site-packages\\scipy\\optimize\\_numdiff.py:596\u001b[39m, in \u001b[36m_dense_difference\u001b[39m\u001b[34m(fun, x0, f0, h, use_one_sided, method)\u001b[39m\n\u001b[32m    594\u001b[39m     x1[i] += h[i]\n\u001b[32m    595\u001b[39m     dx = x1[i] - x0[i]  \u001b[38;5;66;03m# Recompute dx as exactly representable number.\u001b[39;00m\n\u001b[32m--> \u001b[39m\u001b[32m596\u001b[39m     df = \u001b[43mfun\u001b[49m\u001b[43m(\u001b[49m\u001b[43mx1\u001b[49m\u001b[43m)\u001b[49m - f0\n\u001b[32m    597\u001b[39m \u001b[38;5;28;01melif\u001b[39;00m method == \u001b[33m'\u001b[39m\u001b[33m3-point\u001b[39m\u001b[33m'\u001b[39m \u001b[38;5;129;01mand\u001b[39;00m use_one_sided[i]:\n\u001b[32m    598\u001b[39m     x1[i] += h[i]\n",
      "\u001b[36mFile \u001b[39m\u001b[32m~\\AppData\\Local\\Packages\\PythonSoftwareFoundation.Python.3.11_qbz5n2kfra8p0\\LocalCache\\local-packages\\Python311\\site-packages\\scipy\\optimize\\_numdiff.py:474\u001b[39m, in \u001b[36mapprox_derivative.<locals>.fun_wrapped\u001b[39m\u001b[34m(x)\u001b[39m\n\u001b[32m    471\u001b[39m \u001b[38;5;28;01mif\u001b[39;00m xp.isdtype(x.dtype, \u001b[33m\"\u001b[39m\u001b[33mreal floating\u001b[39m\u001b[33m\"\u001b[39m):\n\u001b[32m    472\u001b[39m     x = xp.astype(x, x0.dtype)\n\u001b[32m--> \u001b[39m\u001b[32m474\u001b[39m f = np.atleast_1d(\u001b[43mfun\u001b[49m\u001b[43m(\u001b[49m\u001b[43mx\u001b[49m\u001b[43m,\u001b[49m\u001b[43m \u001b[49m\u001b[43m*\u001b[49m\u001b[43margs\u001b[49m\u001b[43m,\u001b[49m\u001b[43m \u001b[49m\u001b[43m*\u001b[49m\u001b[43m*\u001b[49m\u001b[43mkwargs\u001b[49m\u001b[43m)\u001b[49m)\n\u001b[32m    475\u001b[39m \u001b[38;5;28;01mif\u001b[39;00m f.ndim > \u001b[32m1\u001b[39m:\n\u001b[32m    476\u001b[39m     \u001b[38;5;28;01mraise\u001b[39;00m \u001b[38;5;167;01mRuntimeError\u001b[39;00m(\u001b[33m\"\u001b[39m\u001b[33m`fun` return value has \u001b[39m\u001b[33m\"\u001b[39m\n\u001b[32m    477\u001b[39m                        \u001b[33m\"\u001b[39m\u001b[33mmore than 1 dimension.\u001b[39m\u001b[33m\"\u001b[39m)\n",
      "\u001b[36mFile \u001b[39m\u001b[32m~\\AppData\\Local\\Packages\\PythonSoftwareFoundation.Python.3.11_qbz5n2kfra8p0\\LocalCache\\local-packages\\Python311\\site-packages\\scipy\\optimize\\_differentiable_functions.py:21\u001b[39m, in \u001b[36m_wrapper_fun.<locals>.wrapped\u001b[39m\u001b[34m(x)\u001b[39m\n\u001b[32m     17\u001b[39m ncalls[\u001b[32m0\u001b[39m] += \u001b[32m1\u001b[39m\n\u001b[32m     18\u001b[39m \u001b[38;5;66;03m# Send a copy because the user may overwrite it.\u001b[39;00m\n\u001b[32m     19\u001b[39m \u001b[38;5;66;03m# Overwriting results in undefined behaviour because\u001b[39;00m\n\u001b[32m     20\u001b[39m \u001b[38;5;66;03m# fun(self.x) will change self.x, with the two no longer linked.\u001b[39;00m\n\u001b[32m---> \u001b[39m\u001b[32m21\u001b[39m fx = \u001b[43mfun\u001b[49m\u001b[43m(\u001b[49m\u001b[43mnp\u001b[49m\u001b[43m.\u001b[49m\u001b[43mcopy\u001b[49m\u001b[43m(\u001b[49m\u001b[43mx\u001b[49m\u001b[43m)\u001b[49m\u001b[43m,\u001b[49m\u001b[43m \u001b[49m\u001b[43m*\u001b[49m\u001b[43margs\u001b[49m\u001b[43m)\u001b[49m\n\u001b[32m     22\u001b[39m \u001b[38;5;66;03m# Make sure the function returns a true scalar\u001b[39;00m\n\u001b[32m     23\u001b[39m \u001b[38;5;28;01mif\u001b[39;00m \u001b[38;5;129;01mnot\u001b[39;00m np.isscalar(fx):\n",
      "\u001b[36mFile \u001b[39m\u001b[32m~\\AppData\\Local\\Packages\\PythonSoftwareFoundation.Python.3.11_qbz5n2kfra8p0\\LocalCache\\local-packages\\Python311\\site-packages\\metacountregressor\\solution.py:5063\u001b[39m, in \u001b[36mObjectiveFunction._loglik_gradient\u001b[39m\u001b[34m(self, betas, Xd, y, draws, Xf, Xr, batch_size, return_gradient, return_gradient_n, dispersion, test_set, return_EV, verbose, corr_list, zi_list, exog_infl, draws_grouped, Xgroup, model_nature, kwarg, **kwargs)\u001b[39m\n\u001b[32m   5060\u001b[39m betas_last = betas[-\u001b[32m1\u001b[39m]\n\u001b[32m   5062\u001b[39m \u001b[38;5;66;03m# print(betas_last)\u001b[39;00m\n\u001b[32m-> \u001b[39m\u001b[32m5063\u001b[39m proba_, proba_n = \u001b[38;5;28;43mself\u001b[39;49m\u001b[43m.\u001b[49m\u001b[43mprob_obs_draws_all_at_once\u001b[49m\u001b[43m(\u001b[49m\n\u001b[32m   5064\u001b[39m \u001b[43m    \u001b[49m\u001b[43meVd\u001b[49m\u001b[43m,\u001b[49m\u001b[43m \u001b[49m\u001b[43mnp\u001b[49m\u001b[43m.\u001b[49m\u001b[43matleast_3d\u001b[49m\u001b[43m(\u001b[49m\u001b[43my\u001b[49m\u001b[43m)\u001b[49m\u001b[43m,\u001b[49m\u001b[43m \u001b[49m\u001b[43mbetas_last\u001b[49m\u001b[43m,\u001b[49m\u001b[43m \u001b[49m\u001b[43mdispersion\u001b[49m\u001b[43m)\u001b[49m\n\u001b[32m   5065\u001b[39m \u001b[38;5;66;03m# self._prob_product_against_panels()\u001b[39;00m\n\u001b[32m   5066\u001b[39m \n\u001b[32m   5067\u001b[39m \u001b[38;5;66;03m# print(top_stats)\u001b[39;00m\n\u001b[32m   5069\u001b[39m proba.append(dev.to_cpu(proba_))\n",
      "\u001b[36mFile \u001b[39m\u001b[32m~\\AppData\\Local\\Packages\\PythonSoftwareFoundation.Python.3.11_qbz5n2kfra8p0\\LocalCache\\local-packages\\Python311\\site-packages\\metacountregressor\\solution.py:4498\u001b[39m, in \u001b[36mObjectiveFunction.prob_obs_draws_all_at_once\u001b[39m\u001b[34m(self, eVi, y, disp, dispersion)\u001b[39m\n\u001b[32m   4496\u001b[39m \u001b[38;5;28;01mdef\u001b[39;00m\u001b[38;5;250m \u001b[39m\u001b[34mprob_obs_draws_all_at_once\u001b[39m(\u001b[38;5;28mself\u001b[39m, eVi, y, disp, dispersion):\n\u001b[32m   4497\u001b[39m     \u001b[38;5;28;01mif\u001b[39;00m dispersion == \u001b[32m0\u001b[39m:\n\u001b[32m-> \u001b[39m\u001b[32m4498\u001b[39m         proba_r = \u001b[43mpoisson\u001b[49m\u001b[43m.\u001b[49m\u001b[43mpmf\u001b[49m\u001b[43m(\u001b[49m\u001b[43my\u001b[49m\u001b[43m,\u001b[49m\u001b[43m \u001b[49m\u001b[43meVi\u001b[49m\u001b[43m)\u001b[49m\n\u001b[32m   4499\u001b[39m     \u001b[38;5;28;01melif\u001b[39;00m dispersion == \u001b[32m1\u001b[39m:\n\u001b[32m   4500\u001b[39m         \u001b[38;5;66;03m# print(np.shape(y), print(np.shape(eVi)))\u001b[39;00m\n\u001b[32m   4501\u001b[39m         \u001b[38;5;66;03m# proba_r =  self._nonlog_nbin(y, eVi, disp)\u001b[39;00m\n\u001b[32m   4502\u001b[39m         \u001b[38;5;66;03m# proba_r2 = nbinom.pmf(y, disp*eVi**0, disp/(eVi+disp))\u001b[39;00m\n\u001b[32m   4503\u001b[39m         proba_r = \u001b[38;5;28mself\u001b[39m.nbinom_pmf_batched(y, eVi, disp)\n",
      "\u001b[36mFile \u001b[39m\u001b[32m~\\AppData\\Local\\Packages\\PythonSoftwareFoundation.Python.3.11_qbz5n2kfra8p0\\LocalCache\\local-packages\\Python311\\site-packages\\scipy\\stats\\_distn_infrastructure.py:3498\u001b[39m, in \u001b[36mrv_discrete.pmf\u001b[39m\u001b[34m(self, k, *args, **kwds)\u001b[39m\n\u001b[32m   3496\u001b[39m \u001b[38;5;28;01mif\u001b[39;00m np.any(cond):\n\u001b[32m   3497\u001b[39m     goodargs = argsreduce(cond, *((k,)+args))\n\u001b[32m-> \u001b[39m\u001b[32m3498\u001b[39m     place(output, cond, np.clip(\u001b[38;5;28;43mself\u001b[39;49m\u001b[43m.\u001b[49m\u001b[43m_pmf\u001b[49m\u001b[43m(\u001b[49m\u001b[43m*\u001b[49m\u001b[43mgoodargs\u001b[49m\u001b[43m)\u001b[49m, \u001b[32m0\u001b[39m, \u001b[32m1\u001b[39m))\n\u001b[32m   3499\u001b[39m \u001b[38;5;28;01mif\u001b[39;00m output.ndim == \u001b[32m0\u001b[39m:\n\u001b[32m   3500\u001b[39m     \u001b[38;5;28;01mreturn\u001b[39;00m output[()]\n",
      "\u001b[36mFile \u001b[39m\u001b[32m~\\AppData\\Local\\Packages\\PythonSoftwareFoundation.Python.3.11_qbz5n2kfra8p0\\LocalCache\\local-packages\\Python311\\site-packages\\scipy\\stats\\_discrete_distns.py:1002\u001b[39m, in \u001b[36mpoisson_gen._pmf\u001b[39m\u001b[34m(self, k, mu)\u001b[39m\n\u001b[32m   1000\u001b[39m \u001b[38;5;28;01mdef\u001b[39;00m\u001b[38;5;250m \u001b[39m\u001b[34m_pmf\u001b[39m(\u001b[38;5;28mself\u001b[39m, k, mu):\n\u001b[32m   1001\u001b[39m     \u001b[38;5;66;03m# poisson.pmf(k) = exp(-mu) * mu**k / k!\u001b[39;00m\n\u001b[32m-> \u001b[39m\u001b[32m1002\u001b[39m     \u001b[38;5;28;01mreturn\u001b[39;00m exp(\u001b[38;5;28;43mself\u001b[39;49m\u001b[43m.\u001b[49m\u001b[43m_logpmf\u001b[49m\u001b[43m(\u001b[49m\u001b[43mk\u001b[49m\u001b[43m,\u001b[49m\u001b[43m \u001b[49m\u001b[43mmu\u001b[49m\u001b[43m)\u001b[49m)\n",
      "\u001b[36mFile \u001b[39m\u001b[32m~\\AppData\\Local\\Packages\\PythonSoftwareFoundation.Python.3.11_qbz5n2kfra8p0\\LocalCache\\local-packages\\Python311\\site-packages\\scipy\\stats\\_discrete_distns.py:997\u001b[39m, in \u001b[36mpoisson_gen._logpmf\u001b[39m\u001b[34m(self, k, mu)\u001b[39m\n\u001b[32m    996\u001b[39m \u001b[38;5;28;01mdef\u001b[39;00m\u001b[38;5;250m \u001b[39m\u001b[34m_logpmf\u001b[39m(\u001b[38;5;28mself\u001b[39m, k, mu):\n\u001b[32m--> \u001b[39m\u001b[32m997\u001b[39m     Pk = special.xlogy(k, mu) - \u001b[43mgamln\u001b[49m\u001b[43m(\u001b[49m\u001b[43mk\u001b[49m\u001b[43m \u001b[49m\u001b[43m+\u001b[49m\u001b[43m \u001b[49m\u001b[32;43m1\u001b[39;49m\u001b[43m)\u001b[49m - mu\n\u001b[32m    998\u001b[39m     \u001b[38;5;28;01mreturn\u001b[39;00m Pk\n",
      "\u001b[31mKeyboardInterrupt\u001b[39m: "
     ]
    }
   ],
   "source": [
    "initial_solution = None\n",
    "obj_fun = ObjectiveFunction(X, y, **arguments)\n",
    "#perform harmony search\n",
    "results_hs = harmony_search(obj_fun, initial_solution, **arguments_hs)\n",
    "#perform differential evolution\n",
    "''' Commenting out as only one metaheuristic should be used at a time, feel free to test the others\n",
    "results_de = differential_evolution(obj_fun, initial_solution, **arguments_de)\n",
    "#perform simulated annealing\n",
    "results_sa = simulated_annealing(obj_fun, initial_solution, **arguments_sa)'\n",
    "'''"
   ]
  },
  {
   "cell_type": "markdown",
   "metadata": {},
   "source": [
    "Prespecifying an Intitial Solution"
   ]
  },
  {
   "cell_type": "code",
   "execution_count": 32,
   "metadata": {},
   "outputs": [
    {
     "name": "stdout",
     "output_type": "stream",
     "text": [
      "no name set, setting name as 0\n",
      "No Panels. Grouped Random Paramaters Will not be estimated\n",
      "Setup Complete...\n",
      "The type of models possible will consider: Poisson, NB\n",
      "fitting manual\n",
      "Benchmaking test with Seed 42\n",
      "--------------------------------------------------------------------------------\n",
      "Log-Likelihood:  -727.8796536113379\n",
      "--------------------------------------------------------------------------------\n",
      "bic: 1489.80\n",
      "--------------------------------------------------------------------------------\n",
      "+------------------------+--------+---------+----------+----------+------------+\n",
      "|         Effect         | $\\tau$ |  Coeff  | Std. Err | z-values | Prob |z|>Z |\n",
      "+========================+========+=========+==========+==========+============+\n",
      "| const                  | no     | 1.0006  |   4.24   |   0.24   | 0.81       |\n",
      "+------------------------+--------+---------+----------+----------+------------+\n",
      "| MEDWIDTH               | no     | 0.3120  |   2.41   |   0.13   | 0.90       |\n",
      "+------------------------+--------+---------+----------+----------+------------+\n",
      "| SLOPE                  | no     | -0.0971 |   3.07   |  -0.03   | 0.97       |\n",
      "+------------------------+--------+---------+----------+----------+------------+\n",
      "| INCLANES               | no     | 0.5127  |   2.90   |   0.18   | 0.86       |\n",
      "+------------------------+--------+---------+----------+----------+------------+\n",
      "| SPEED                  | no     | 0.4992  |   4.69   |   0.11   | 0.92       |\n",
      "+------------------------+--------+---------+----------+----------+------------+\n",
      "| SPEED (Std. Dev.)      |        | 1.1580  |   0.75   |  -1.54   | 0.13       |\n",
      "| normal                 |        |         |          |          |            |\n",
      "+------------------------+--------+---------+----------+----------+------------+\n"
     ]
    }
   ],
   "source": [
    "manual_fit_spec = {\n",
    "'fixed_terms': ['const', 'MEDWIDTH', 'SLOPE',  'INCLANES'],\n",
    "'rdm_terms':  ['SPEED:normal'],\n",
    "'rdm_cor_terms': [],\n",
    "'grouped_terms': [],\n",
    "'hetro_in_means': [],\n",
    "'transformations': ['no', 'no', 'no', 'no', 'no', 'no', 'no'],\n",
    "'dispersion': 0\n",
    "}\n",
    "arguments['Manual_Fit'] = manual_fit_spec\n",
    "\n",
    "\n",
    "obj_fun = ObjectiveFunction(X, y, **arguments)\n",
    "#perform harmony search\n",
    "#results_hs = harmony_search(obj_fun, , **arguments_hs)"
   ]
  }
 ],
 "metadata": {
  "kernelspec": {
   "display_name": "Python 3",
   "language": "python",
   "name": "python3"
  },
  "language_info": {
   "codemirror_mode": {
    "name": "ipython",
    "version": 3
   },
   "file_extension": ".py",
   "mimetype": "text/x-python",
   "name": "python",
   "nbconvert_exporter": "python",
   "pygments_lexer": "ipython3",
   "version": "3.11.9"
  }
 },
 "nbformat": 4,
 "nbformat_minor": 2
}
